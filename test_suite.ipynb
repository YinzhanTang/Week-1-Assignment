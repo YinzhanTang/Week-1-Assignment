{
 "metadata": {
  "name": "",
  "signature": "sha256:245cf72acc291bcc2695a5e3a413ea299190ded4676b3bc97667a73eef249d69"
 },
 "nbformat": 3,
 "nbformat_minor": 0,
 "worksheets": [
  {
   "cells": [
    {
     "cell_type": "code",
     "collapsed": false,
     "input": [
      "import pandas as pd\n",
      "import matplotlib.pyplot as plt\n",
      "%matplotlib inline"
     ],
     "language": "python",
     "metadata": {},
     "outputs": []
    },
    {
     "cell_type": "code",
     "collapsed": false,
     "input": [
      "# read the salaries file into a DataFrame\n",
      "salaries = pd.read_csv('salaries.csv')\n",
      "\n",
      "# extract the salary as a number\n",
      "salaries['Annual Salary'].dropna().str[1:].astype(float).sort_values().hist()\n",
      "plt.savefig('salaries_histogram.pdf')"
     ],
     "language": "python",
     "metadata": {},
     "outputs": []
    },
    {
     "cell_type": "code",
     "collapsed": false,
     "input": [],
     "language": "python",
     "metadata": {},
     "outputs": []
    }
   ],
   "metadata": {}
  }
 ]
}
